{
 "cells": [
  {
   "cell_type": "code",
   "execution_count": 9,
   "metadata": {},
   "outputs": [],
   "source": [
    "from usecase.taxi_usecase import TaxiUsecase\n",
    "from repository.postgre_repo import PostgreRepo\n",
    "from config.config import Config \n",
    "from datetime import datetime, date , timedelta\n",
    "from lib.query import *\n",
    "import warnings\n",
    "from jinja2 import Template\n",
    "from matplotlib import pyplot as plt\n",
    "warnings.filterwarnings('ignore')"
   ]
  },
  {
   "cell_type": "code",
   "execution_count": 3,
   "metadata": {},
   "outputs": [
    {
     "name": "stdout",
     "output_type": "stream",
     "text": [
      "Successfully load config\n",
      "Taxi TR iniatated !\n"
     ]
    }
   ],
   "source": [
    "# Initiate config, repository and usecase\n",
    "cfg = Config().conf\n",
    "pg_repo = PostgreRepo(cfg[\"postgre\"])\n",
    "taxi_usecase = TaxiUsecase(cfg[\"taxi_config\"],pg_repo)"
   ]
  },
  {
   "cell_type": "code",
   "execution_count": 4,
   "metadata": {},
   "outputs": [
    {
     "name": "stdout",
     "output_type": "stream",
     "text": [
      "Processing timestamp : 2023-06-11T00:18:21+08:00\n",
      "            region_name  daily_minute_occurence\n",
      "0        CHANGI AIRPORT                     251\n",
      "1              ALJUNIED                      29\n",
      "2        WOODLANDS EAST                      25\n",
      "3         TAMPINES EAST                      24\n",
      "4           BEDOK NORTH                      22\n",
      "5          HOUGANG WEST                      19\n",
      "6  SENGKANG TOWN CENTRE                      18\n",
      "7             KEMBANGAN                      16\n",
      "8           YISHUN WEST                      16\n",
      "9           NORTH COAST                      14\n"
     ]
    }
   ],
   "source": [
    "# Question 1 - Point A  top 10 highest taxi population region\n",
    "# Get latest data to postgre\n",
    "taxi_usecase.get_current_data()\n",
    "# query latest data to get result\n",
    "top_10_region = pg_repo.exec_query_pd(top_10_area)\n",
    "print(top_10_region)"
   ]
  },
  {
   "cell_type": "code",
   "execution_count": 7,
   "metadata": {},
   "outputs": [
    {
     "name": "stdout",
     "output_type": "stream",
     "text": [
      "Processing timestamp : 2023-06-11T00:18:21+08:00\n",
      "                 coalesce  coalesce\n",
      "0            AIRPORT ROAD         0\n",
      "1         ALEXANDRA NORTH         0\n",
      "2  ANG MO KIO TOWN CENTRE         0\n",
      "3               BENCOOLEN         0\n",
      "4            BENOI SECTOR         0\n",
      "5             BUKIT MERAH         0\n",
      "6              CHANGI BAY         0\n",
      "7                CHIN BEE         0\n",
      "8           CLIFFORD PIER         0\n",
      "9            CONEY ISLAND         0\n"
     ]
    }
   ],
   "source": [
    "# Question 1 - Point B  top 10 lowest taxi population region\n",
    "# Get all region in sg\n",
    "taxi_usecase.get_all_region(\"dt_sg_region\")\n",
    "# query latest data to get result\n",
    "taxi_usecase.get_current_data()\n",
    "bottom_10_region = pg_repo.exec_query_pd(bottom_10_area)\n",
    "print(bottom_10_region)\n"
   ]
  },
  {
   "cell_type": "code",
   "execution_count": 10,
   "metadata": {},
   "outputs": [
    {
     "name": "stdout",
     "output_type": "stream",
     "text": [
      "            date  hour                  region_name  count_taxi\n",
      "0     2023-06-09     0               CHANGI AIRPORT         478\n",
      "1     2023-06-09     0                TAMPINES EAST          51\n",
      "2     2023-06-09     0                  BEDOK NORTH          39\n",
      "3     2023-06-09     0                    NORTHLAND          30\n",
      "4     2023-06-09     0               WOODLANDS EAST          30\n",
      "...          ...   ...                          ...         ...\n",
      "6505  2023-06-09    23                   TUAS NORTH           1\n",
      "6506  2023-06-09    23  INTERNATIONAL BUSINESS PARK           1\n",
      "6507  2023-06-09    23                       TAGORE           1\n",
      "6508  2023-06-09    23              PAYA LEBAR EAST           1\n",
      "6509  2023-06-09    23                     BIDADARI           1\n",
      "\n",
      "[6510 rows x 4 columns]\n"
     ]
    }
   ],
   "source": [
    "# Question 1 - Point C  Hourly taxi availability\n",
    "c_query = Template(hourly_taxi_avail)\n",
    "c_query = c_query.render(date = '2023-06-09')\n",
    "hourly_taxi = pg_repo.exec_query_pd(c_query)\n",
    "print(hourly_taxi)"
   ]
  },
  {
   "cell_type": "code",
   "execution_count": null,
   "metadata": {},
   "outputs": [],
   "source": [
    "# Question 2 - Alert for Region with no Taxi Available"
   ]
  }
 ],
 "metadata": {
  "kernelspec": {
   "display_name": "Python 3",
   "language": "python",
   "name": "python3"
  },
  "language_info": {
   "codemirror_mode": {
    "name": "ipython",
    "version": 3
   },
   "file_extension": ".py",
   "mimetype": "text/x-python",
   "name": "python",
   "nbconvert_exporter": "python",
   "pygments_lexer": "ipython3",
   "version": "3.10.5"
  },
  "orig_nbformat": 4
 },
 "nbformat": 4,
 "nbformat_minor": 2
}
